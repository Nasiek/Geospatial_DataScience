{
 "cells": [
  {
   "cell_type": "markdown",
   "metadata": {},
   "source": [
    "# Assignment One\n",
    "1. Load the Zillow Housing Values data for each ZIP code, selecting only Philadelphia ZIP codes.\n",
    "2. Calculate the annual average ZHVI for each ZIP code in Philadelphia and each year.\n",
    "3. Identify the ZIP code with the maximum value for each year."
   ]
  },
  {
   "cell_type": "code",
   "execution_count": 1,
   "metadata": {},
   "outputs": [],
   "source": [
    "import pandas as pd\n",
    "import numpy as np\n",
    "src = \"/Users/kl/Documents/Fall 2019/MUSA_620_Data_Wrangling/Zip_Zhvi_AllHomes.csv\"\n",
    "df = pd.read_csv(src, parse_dates=[0],encoding = 'unicode_escape')"
   ]
  },
  {
   "cell_type": "code",
   "execution_count": 2,
   "metadata": {
    "scrolled": true
   },
   "outputs": [
    {
     "data": {
      "text/html": [
       "<div>\n",
       "<style scoped>\n",
       "    .dataframe tbody tr th:only-of-type {\n",
       "        vertical-align: middle;\n",
       "    }\n",
       "\n",
       "    .dataframe tbody tr th {\n",
       "        vertical-align: top;\n",
       "    }\n",
       "\n",
       "    .dataframe thead th {\n",
       "        text-align: right;\n",
       "    }\n",
       "</style>\n",
       "<table border=\"1\" class=\"dataframe\">\n",
       "  <thead>\n",
       "    <tr style=\"text-align: right;\">\n",
       "      <th></th>\n",
       "      <th>RegionID</th>\n",
       "      <th>RegionName</th>\n",
       "      <th>City</th>\n",
       "      <th>State</th>\n",
       "      <th>Metro</th>\n",
       "      <th>CountyName</th>\n",
       "      <th>SizeRank</th>\n",
       "      <th>1996-04</th>\n",
       "      <th>1996-05</th>\n",
       "      <th>1996-06</th>\n",
       "      <th>...</th>\n",
       "      <th>2018-02</th>\n",
       "      <th>2018-03</th>\n",
       "      <th>2018-04</th>\n",
       "      <th>2018-05</th>\n",
       "      <th>2018-06</th>\n",
       "      <th>2018-07</th>\n",
       "      <th>2018-08</th>\n",
       "      <th>2018-09</th>\n",
       "      <th>2018-10</th>\n",
       "      <th>2018-11</th>\n",
       "    </tr>\n",
       "  </thead>\n",
       "  <tbody>\n",
       "    <tr>\n",
       "      <th>0</th>\n",
       "      <td>61639</td>\n",
       "      <td>10025</td>\n",
       "      <td>New York</td>\n",
       "      <td>NY</td>\n",
       "      <td>New York-Newark-Jersey City</td>\n",
       "      <td>New York County</td>\n",
       "      <td>1</td>\n",
       "      <td>171600.0</td>\n",
       "      <td>171600.0</td>\n",
       "      <td>171400.0</td>\n",
       "      <td>...</td>\n",
       "      <td>1130500</td>\n",
       "      <td>1123700</td>\n",
       "      <td>1119500</td>\n",
       "      <td>1116900</td>\n",
       "      <td>1110100</td>\n",
       "      <td>1098400</td>\n",
       "      <td>1086900</td>\n",
       "      <td>1080500</td>\n",
       "      <td>1072200</td>\n",
       "      <td>1064000</td>\n",
       "    </tr>\n",
       "    <tr>\n",
       "      <th>1</th>\n",
       "      <td>84654</td>\n",
       "      <td>60657</td>\n",
       "      <td>Chicago</td>\n",
       "      <td>IL</td>\n",
       "      <td>Chicago-Naperville-Elgin</td>\n",
       "      <td>Cook County</td>\n",
       "      <td>2</td>\n",
       "      <td>158400.0</td>\n",
       "      <td>159700.0</td>\n",
       "      <td>160700.0</td>\n",
       "      <td>...</td>\n",
       "      <td>351600</td>\n",
       "      <td>352900</td>\n",
       "      <td>351900</td>\n",
       "      <td>350400</td>\n",
       "      <td>348700</td>\n",
       "      <td>347800</td>\n",
       "      <td>348200</td>\n",
       "      <td>349500</td>\n",
       "      <td>351500</td>\n",
       "      <td>354000</td>\n",
       "    </tr>\n",
       "    <tr>\n",
       "      <th>2</th>\n",
       "      <td>61637</td>\n",
       "      <td>10023</td>\n",
       "      <td>New York</td>\n",
       "      <td>NY</td>\n",
       "      <td>New York-Newark-Jersey City</td>\n",
       "      <td>New York County</td>\n",
       "      <td>3</td>\n",
       "      <td>347900.0</td>\n",
       "      <td>349600.0</td>\n",
       "      <td>351100.0</td>\n",
       "      <td>...</td>\n",
       "      <td>1516000</td>\n",
       "      <td>1497900</td>\n",
       "      <td>1497800</td>\n",
       "      <td>1504600</td>\n",
       "      <td>1489900</td>\n",
       "      <td>1463300</td>\n",
       "      <td>1438800</td>\n",
       "      <td>1411600</td>\n",
       "      <td>1389900</td>\n",
       "      <td>1380100</td>\n",
       "    </tr>\n",
       "  </tbody>\n",
       "</table>\n",
       "<p>3 rows × 279 columns</p>\n",
       "</div>"
      ],
      "text/plain": [
       "  RegionID  RegionName      City State                        Metro  \\\n",
       "0    61639       10025  New York    NY  New York-Newark-Jersey City   \n",
       "1    84654       60657   Chicago    IL     Chicago-Naperville-Elgin   \n",
       "2    61637       10023  New York    NY  New York-Newark-Jersey City   \n",
       "\n",
       "        CountyName  SizeRank   1996-04   1996-05   1996-06   ...     2018-02  \\\n",
       "0  New York County         1  171600.0  171600.0  171400.0   ...     1130500   \n",
       "1      Cook County         2  158400.0  159700.0  160700.0   ...      351600   \n",
       "2  New York County         3  347900.0  349600.0  351100.0   ...     1516000   \n",
       "\n",
       "   2018-03  2018-04  2018-05  2018-06  2018-07  2018-08  2018-09  2018-10  \\\n",
       "0  1123700  1119500  1116900  1110100  1098400  1086900  1080500  1072200   \n",
       "1   352900   351900   350400   348700   347800   348200   349500   351500   \n",
       "2  1497900  1497800  1504600  1489900  1463300  1438800  1411600  1389900   \n",
       "\n",
       "   2018-11  \n",
       "0  1064000  \n",
       "1   354000  \n",
       "2  1380100  \n",
       "\n",
       "[3 rows x 279 columns]"
      ]
     },
     "execution_count": 2,
     "metadata": {},
     "output_type": "execute_result"
    }
   ],
   "source": [
    "df.head(3)"
   ]
  },
  {
   "cell_type": "markdown",
   "metadata": {},
   "source": [
    "## Steps: \n",
    "1. Subset the data for just Philadelphia.\n",
    "2. Subset the data by the years (aggregate years into one column and format the values.)"
   ]
  },
  {
   "cell_type": "code",
   "execution_count": 3,
   "metadata": {},
   "outputs": [
    {
     "data": {
      "text/html": [
       "<div>\n",
       "<style scoped>\n",
       "    .dataframe tbody tr th:only-of-type {\n",
       "        vertical-align: middle;\n",
       "    }\n",
       "\n",
       "    .dataframe tbody tr th {\n",
       "        vertical-align: top;\n",
       "    }\n",
       "\n",
       "    .dataframe thead th {\n",
       "        text-align: right;\n",
       "    }\n",
       "</style>\n",
       "<table border=\"1\" class=\"dataframe\">\n",
       "  <thead>\n",
       "    <tr style=\"text-align: right;\">\n",
       "      <th></th>\n",
       "      <th>RegionName</th>\n",
       "      <th>Years_DT</th>\n",
       "      <th>ZHVI</th>\n",
       "    </tr>\n",
       "  </thead>\n",
       "  <tbody>\n",
       "    <tr>\n",
       "      <th>0</th>\n",
       "      <td>19102</td>\n",
       "      <td>1996</td>\n",
       "      <td>79966.666667</td>\n",
       "    </tr>\n",
       "    <tr>\n",
       "      <th>1</th>\n",
       "      <td>19102</td>\n",
       "      <td>1997</td>\n",
       "      <td>83166.666667</td>\n",
       "    </tr>\n",
       "    <tr>\n",
       "      <th>2</th>\n",
       "      <td>19102</td>\n",
       "      <td>1998</td>\n",
       "      <td>92550.000000</td>\n",
       "    </tr>\n",
       "    <tr>\n",
       "      <th>3</th>\n",
       "      <td>19102</td>\n",
       "      <td>1999</td>\n",
       "      <td>114358.333333</td>\n",
       "    </tr>\n",
       "    <tr>\n",
       "      <th>4</th>\n",
       "      <td>19102</td>\n",
       "      <td>2000</td>\n",
       "      <td>145175.000000</td>\n",
       "    </tr>\n",
       "    <tr>\n",
       "      <th>5</th>\n",
       "      <td>19102</td>\n",
       "      <td>2001</td>\n",
       "      <td>185016.666667</td>\n",
       "    </tr>\n",
       "    <tr>\n",
       "      <th>6</th>\n",
       "      <td>19102</td>\n",
       "      <td>2002</td>\n",
       "      <td>232733.333333</td>\n",
       "    </tr>\n",
       "    <tr>\n",
       "      <th>7</th>\n",
       "      <td>19102</td>\n",
       "      <td>2003</td>\n",
       "      <td>277475.000000</td>\n",
       "    </tr>\n",
       "    <tr>\n",
       "      <th>8</th>\n",
       "      <td>19102</td>\n",
       "      <td>2004</td>\n",
       "      <td>306200.000000</td>\n",
       "    </tr>\n",
       "    <tr>\n",
       "      <th>9</th>\n",
       "      <td>19102</td>\n",
       "      <td>2005</td>\n",
       "      <td>363100.000000</td>\n",
       "    </tr>\n",
       "  </tbody>\n",
       "</table>\n",
       "</div>"
      ],
      "text/plain": [
       "   RegionName Years_DT           ZHVI\n",
       "0       19102     1996   79966.666667\n",
       "1       19102     1997   83166.666667\n",
       "2       19102     1998   92550.000000\n",
       "3       19102     1999  114358.333333\n",
       "4       19102     2000  145175.000000\n",
       "5       19102     2001  185016.666667\n",
       "6       19102     2002  232733.333333\n",
       "7       19102     2003  277475.000000\n",
       "8       19102     2004  306200.000000\n",
       "9       19102     2005  363100.000000"
      ]
     },
     "execution_count": 3,
     "metadata": {},
     "output_type": "execute_result"
    }
   ],
   "source": [
    "\n",
    "philly = df[(df.City=='Philadelphia') & (df.State=='PA')]\n",
    "import datetime\n",
    "years = philly.iloc[:,7:]\n",
    "head = philly.iloc[:,:7]\n",
    " \n",
    "yrs_col = years.columns  \n",
    "phl_col = philly.columns\n",
    "head_cols= head.columns\n",
    "\n",
    "meltdata = pd.melt(philly,id_vars = head_cols, value_vars= yrs_col,var_name='Years_DT',value_name='ZHVI')\n",
    "yrs= pd.DatetimeIndex(meltdata['Years_DT']).year\n",
    "meltdata['Years_DT'] = meltdata['Years_DT'].astype(str).str[:4]\n",
    "meltdata= meltdata.groupby(['RegionName','Years_DT'],as_index=False)['ZHVI',].mean()\n",
    "\n",
    "meltdata.head(10)\n"
   ]
  },
  {
   "cell_type": "markdown",
   "metadata": {},
   "source": [
    "Now in one line, let's get the maximum value for each year and show which zipcode it belongs to:"
   ]
  },
  {
   "cell_type": "code",
   "execution_count": 11,
   "metadata": {},
   "outputs": [
    {
     "data": {
      "text/plain": [
       "RegionName      int64\n",
       "Years_DT       object\n",
       "ZHVI          float64\n",
       "dtype: object"
      ]
     },
     "execution_count": 11,
     "metadata": {},
     "output_type": "execute_result"
    }
   ],
   "source": [
    "data = meltdata.loc[meltdata.groupby([\"Years_DT\"])[\"ZHVI\"].idxmax()]\n",
    "data.dtypes"
   ]
  },
  {
   "cell_type": "markdown",
   "metadata": {
    "scrolled": false
   },
   "source": [
    "### Let's plot it!"
   ]
  },
  {
   "cell_type": "code",
   "execution_count": 23,
   "metadata": {
    "scrolled": false
   },
   "outputs": [
    {
     "data": {
      "application/javascript": [
       "const spec = {\"config\": {\"view\": {\"width\": 400, \"height\": 300}, \"mark\": {\"tooltip\": null}}, \"data\": {\"name\": \"data-75931a4e0cedc0341769f446c47959b4\"}, \"mark\": {\"type\": \"line\", \"point\": true}, \"encoding\": {\"tooltip\": {\"type\": \"quantitative\", \"field\": \"RegionName\"}, \"x\": {\"type\": \"temporal\", \"field\": \"Years_DT\"}, \"y\": {\"type\": \"quantitative\", \"field\": \"ZHVI\"}}, \"selection\": {\"selector006\": {\"type\": \"interval\", \"bind\": \"scales\", \"encodings\": [\"x\", \"y\"]}}, \"title\": \"Zip Codes with Highest Housing Values in Philadelphia by Year\", \"$schema\": \"https://vega.github.io/schema/vega-lite/v3.4.0.json\", \"datasets\": {\"data-75931a4e0cedc0341769f446c47959b4\": [{\"RegionName\": 19118, \"Years_DT\": \"1996\", \"ZHVI\": 182400.0}, {\"RegionName\": 19118, \"Years_DT\": \"1997\", \"ZHVI\": 184358.33333333334}, {\"RegionName\": 19118, \"Years_DT\": \"1998\", \"ZHVI\": 187950.0}, {\"RegionName\": 19118, \"Years_DT\": \"1999\", \"ZHVI\": 207350.0}, {\"RegionName\": 19118, \"Years_DT\": \"2000\", \"ZHVI\": 239900.0}, {\"RegionName\": 19118, \"Years_DT\": \"2001\", \"ZHVI\": 274108.3333333333}, {\"RegionName\": 19118, \"Years_DT\": \"2002\", \"ZHVI\": 311075.0}, {\"RegionName\": 19103, \"Years_DT\": \"2003\", \"ZHVI\": 353258.3333333333}, {\"RegionName\": 19118, \"Years_DT\": \"2004\", \"ZHVI\": 411558.3333333333}, {\"RegionName\": 19118, \"Years_DT\": \"2005\", \"ZHVI\": 474808.3333333333}, {\"RegionName\": 19118, \"Years_DT\": \"2006\", \"ZHVI\": 489216.6666666667}, {\"RegionName\": 19103, \"Years_DT\": \"2007\", \"ZHVI\": 492158.3333333333}, {\"RegionName\": 19103, \"Years_DT\": \"2008\", \"ZHVI\": 489900.0}, {\"RegionName\": 19103, \"Years_DT\": \"2009\", \"ZHVI\": 497866.6666666667}, {\"RegionName\": 19103, \"Years_DT\": \"2010\", \"ZHVI\": 466416.6666666667}, {\"RegionName\": 19118, \"Years_DT\": \"2011\", \"ZHVI\": 436083.3333333333}, {\"RegionName\": 19118, \"Years_DT\": \"2012\", \"ZHVI\": 425241.6666666667}, {\"RegionName\": 19103, \"Years_DT\": \"2013\", \"ZHVI\": 425908.3333333333}, {\"RegionName\": 19103, \"Years_DT\": \"2014\", \"ZHVI\": 449225.0}, {\"RegionName\": 19118, \"Years_DT\": \"2015\", \"ZHVI\": 472150.0}, {\"RegionName\": 19118, \"Years_DT\": \"2016\", \"ZHVI\": 499550.0}, {\"RegionName\": 19118, \"Years_DT\": \"2017\", \"ZHVI\": 520166.6666666667}, {\"RegionName\": 19118, \"Years_DT\": \"2018\", \"ZHVI\": 535990.9090909091}]}};\n",
       "const opt = {};\n",
       "const type = \"vega-lite\";\n",
       "const id = \"3cfe0b18-1c9b-4524-bc10-e2e7d8e72772\";\n",
       "\n",
       "const output_area = this;\n",
       "\n",
       "require([\"nbextensions/jupyter-vega/index\"], function(vega) {\n",
       "  const target = document.createElement(\"div\");\n",
       "  target.id = id;\n",
       "  target.className = \"vega-embed\";\n",
       "\n",
       "  const style = document.createElement(\"style\");\n",
       "  style.textContent = [\n",
       "    \".vega-embed .error p {\",\n",
       "    \"  color: firebrick;\",\n",
       "    \"  font-size: 14px;\",\n",
       "    \"}\",\n",
       "  ].join(\"\\\\n\");\n",
       "\n",
       "  // element is a jQuery wrapped DOM element inside the output area\n",
       "  // see http://ipython.readthedocs.io/en/stable/api/generated/\\\n",
       "  // IPython.display.html#IPython.display.Javascript.__init__\n",
       "  element[0].appendChild(target);\n",
       "  element[0].appendChild(style);\n",
       "\n",
       "  vega.render(\"#\" + id, spec, type, opt, output_area);\n",
       "}, function (err) {\n",
       "  if (err.requireType !== \"scripterror\") {\n",
       "    throw(err);\n",
       "  }\n",
       "});\n"
      ],
      "text/plain": [
       "<vega.vegalite.VegaLite at 0x11f26f710>"
      ]
     },
     "metadata": {
      "jupyter-vega": "#3cfe0b18-1c9b-4524-bc10-e2e7d8e72772"
     },
     "output_type": "display_data"
    },
    {
     "data": {
      "text/plain": []
     },
     "execution_count": 23,
     "metadata": {},
     "output_type": "execute_result"
    },
    {
     "data": {
      "image/png": "[encoded data removed]"
     },
     "metadata": {
      "jupyter-vega": "#3cfe0b18-1c9b-4524-bc10-e2e7d8e72772"
     },
     "output_type": "display_data"
    }
   ],
   "source": [
    "import altair as alt\n",
    "alt.renderers.enable('notebook')\n",
    "\n",
    "alt.Chart(data).mark_line(point=True).encode(x='Years_DT:T',y='ZHVI:Q',tooltip='RegionName').properties(title='Zip Codes with Highest Housing Values in Philadelphia by Year').interactive()\n"
   ]
  }
 ],
 "metadata": {
  "kernelspec": {
   "display_name": "Python 3",
   "language": "python",
   "name": "python3"
  },
  "language_info": {
   "codemirror_mode": {
    "name": "ipython",
    "version": 3
   },
   "file_extension": ".py",
   "mimetype": "text/x-python",
   "name": "python",
   "nbconvert_exporter": "python",
   "pygments_lexer": "ipython3",
   "version": "3.7.0"
  }
 },
 "nbformat": 4,
 "nbformat_minor": 2
}
